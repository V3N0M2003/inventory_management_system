{
  "nbformat": 4,
  "nbformat_minor": 0,
  "metadata": {
    "colab": {
      "provenance": [],
      "authorship_tag": "ABX9TyPDFooHzZ/9bN0avrguLiXR"
    },
    "kernelspec": {
      "name": "python3",
      "display_name": "Python 3"
    },
    "language_info": {
      "name": "python"
    }
  },
  "cells": [
    {
      "cell_type": "code",
      "execution_count": 1,
      "metadata": {
        "colab": {
          "base_uri": "https://localhost:8080/"
        },
        "id": "XC98Klj9UpSX",
        "outputId": "ba0ab60a-07d6-40ea-cab6-a7a04c0000c7"
      },
      "outputs": [
        {
          "output_type": "stream",
          "name": "stdout",
          "text": [
            "Added 50 of product P001 to inventory.\n",
            "Added 30 of product P002 to inventory.\n",
            "Removed 10 of product P001 from inventory.\n",
            "Added 5 of product P001 to customer C001's cart.\n",
            "Added 10 of product P002 to customer C002's cart.\n",
            "Added discount coupon D001 with 20% off and max cap 150.\n",
            "Applied discount coupon D001. Original price: 2000, Discounted price: 1850\n",
            "Final price after discount: 1850\n"
          ]
        }
      ],
      "source": [
        "class InventoryManagementSystem:\n",
        "    def __init__(self):\n",
        "        self.inventory = {}\n",
        "        self.carts = {}\n",
        "        self.discounts = {}\n",
        "\n",
        "    def AddItemToInventory(self, productId, quantity):\n",
        "        if productId in self.inventory:\n",
        "            self.inventory[productId] += quantity\n",
        "        else:\n",
        "            self.inventory[productId] = quantity\n",
        "        print(f\"Added {quantity} of product {productId} to inventory.\")\n",
        "\n",
        "    def RemoveItemFromInventory(self, productId, quantity):\n",
        "        if productId in self.inventory and self.inventory[productId] >= quantity:\n",
        "            self.inventory[productId] -= quantity\n",
        "            if self.inventory[productId] == 0:\n",
        "                del self.inventory[productId]\n",
        "            print(f\"Removed {quantity} of product {productId} from inventory.\")\n",
        "        else:\n",
        "            print(f\"Cannot remove {quantity} of product {productId} from inventory. Not enough stock or product doesn't exist.\")\n",
        "\n",
        "    def AddItemToCart(self, customerId, productId, quantity):\n",
        "        if productId in self.inventory and self.inventory[productId] >= quantity:\n",
        "            if customerId not in self.carts:\n",
        "                self.carts[customerId] = {}\n",
        "            if productId in self.carts[customerId]:\n",
        "                self.carts[customerId][productId] += quantity\n",
        "            else:\n",
        "                self.carts[customerId][productId] = quantity\n",
        "            self.inventory[productId] -= quantity\n",
        "            print(f\"Added {quantity} of product {productId} to customer {customerId}'s cart.\")\n",
        "        else:\n",
        "            print(f\"Cannot add {quantity} of product {productId} to customer {customerId}'s cart. Not enough stock.\")\n",
        "\n",
        "    def ApplyDiscountCoupon(self, cartValue, discountId):\n",
        "        if discountId in self.discounts:\n",
        "            discount = self.discounts[discountId]\n",
        "            discountAmount = (cartValue * discount['DiscountPercentage']) / 100\n",
        "            if discountAmount > discount['MaximumDiscountCap']:\n",
        "                discountAmount = discount['MaximumDiscountCap']\n",
        "            discountedPrice = cartValue - discountAmount\n",
        "            print(f\"Applied discount coupon {discountId}. Original price: {cartValue}, Discounted price: {discountedPrice}\")\n",
        "            return discountedPrice\n",
        "        else:\n",
        "            print(f\"Discount ID {discountId} not found.\")\n",
        "            return cartValue\n",
        "\n",
        "    def AddDiscountCoupon(self, discountId, discountPercentage, maxDiscountCap):\n",
        "        self.discounts[discountId] = {\n",
        "            'DiscountPercentage': discountPercentage,\n",
        "            'MaximumDiscountCap': maxDiscountCap\n",
        "        }\n",
        "        print(f\"Added discount coupon {discountId} with {discountPercentage}% off and max cap {maxDiscountCap}.\")\n",
        "\n",
        "\n",
        "# Driver function to demonstrate the flow of the application\n",
        "def main():\n",
        "    ims = InventoryManagementSystem()\n",
        "\n",
        "    # Add items\n",
        "    ims.AddItemToInventory('P001', 50)\n",
        "    ims.AddItemToInventory('P002', 30)\n",
        "\n",
        "    # Remove items\n",
        "    ims.RemoveItemFromInventory('P001', 10)\n",
        "\n",
        "    # Add items\n",
        "    ims.AddItemToCart('C001', 'P001', 5)\n",
        "    ims.AddItemToCart('C002', 'P002', 10)\n",
        "\n",
        "    # Adding discount coupons\n",
        "    ims.AddDiscountCoupon('D001', 20, 150)\n",
        "\n",
        "    # Applying discount coupons\n",
        "    cartValue = 2000  # example cart value\n",
        "    discountedPrice = ims.ApplyDiscountCoupon(cartValue, 'D001')\n",
        "\n",
        "    print(f\"Final price after discount: {discountedPrice}\")\n",
        "\n",
        "if __name__ == \"__main__\":\n",
        "    main()\n"
      ]
    }
  ]
}